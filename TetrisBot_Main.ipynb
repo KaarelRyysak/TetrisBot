{
 "cells": [
  {
   "cell_type": "code",
   "execution_count": 3,
   "metadata": {},
   "outputs": [
    {
     "name": "stdout",
     "output_type": "stream",
     "text": [
      "Requirement already satisfied: pyscreenshot in d:\\users\\kaarel\\anaconda3\\envs\\tetrisbot\\lib\\site-packages (0.6)\n",
      "Requirement already satisfied: EasyProcess in d:\\users\\kaarel\\anaconda3\\envs\\tetrisbot\\lib\\site-packages (from pyscreenshot) (0.2.8)\n",
      "Requirement already satisfied: pyautogui in d:\\users\\kaarel\\anaconda3\\envs\\tetrisbot\\lib\\site-packages (0.9.48)\n",
      "Requirement already satisfied: pyscreeze>=0.1.21 in d:\\users\\kaarel\\anaconda3\\envs\\tetrisbot\\lib\\site-packages (from pyautogui) (0.1.25)\n",
      "Requirement already satisfied: mouseinfo in d:\\users\\kaarel\\anaconda3\\envs\\tetrisbot\\lib\\site-packages (from pyautogui) (0.1.2)\n",
      "Requirement already satisfied: pymsgbox in d:\\users\\kaarel\\anaconda3\\envs\\tetrisbot\\lib\\site-packages (from pyautogui) (1.0.7)\n",
      "Requirement already satisfied: PyTweening>=1.0.1 in d:\\users\\kaarel\\anaconda3\\envs\\tetrisbot\\lib\\site-packages (from pyautogui) (1.0.3)\n",
      "Requirement already satisfied: pygetwindow>=0.0.5 in d:\\users\\kaarel\\anaconda3\\envs\\tetrisbot\\lib\\site-packages (from pyautogui) (0.0.8)\n",
      "Requirement already satisfied: Pillow>=4.0.0; python_version == \"3.6\" in d:\\users\\kaarel\\anaconda3\\envs\\tetrisbot\\lib\\site-packages (from pyscreeze>=0.1.21->pyautogui) (6.2.1)\n",
      "Requirement already satisfied: pyperclip in d:\\users\\kaarel\\anaconda3\\envs\\tetrisbot\\lib\\site-packages (from mouseinfo->pyautogui) (1.7.0)\n",
      "Requirement already satisfied: pyrect in d:\\users\\kaarel\\anaconda3\\envs\\tetrisbot\\lib\\site-packages (from pygetwindow>=0.0.5->pyautogui) (0.1.4)\n"
     ]
    }
   ],
   "source": [
    "!pip install pyscreenshot\n",
    "!pip install pyautogui"
   ]
  },
  {
   "cell_type": "code",
   "execution_count": 2,
   "metadata": {},
   "outputs": [
    {
     "name": "stdout",
     "output_type": "stream",
     "text": [
      "test\n"
     ]
    }
   ],
   "source": [
    "print(\"test\")"
   ]
  },
  {
   "cell_type": "code",
   "execution_count": null,
   "metadata": {},
   "outputs": [],
   "source": []
  }
 ],
 "metadata": {
  "kernelspec": {
   "display_name": "Python 3",
   "language": "python",
   "name": "python3"
  },
  "language_info": {
   "codemirror_mode": {
    "name": "ipython",
    "version": 3
   },
   "file_extension": ".py",
   "mimetype": "text/x-python",
   "name": "python",
   "nbconvert_exporter": "python",
   "pygments_lexer": "ipython3",
   "version": "3.7.4"
  }
 },
 "nbformat": 4,
 "nbformat_minor": 2
}
